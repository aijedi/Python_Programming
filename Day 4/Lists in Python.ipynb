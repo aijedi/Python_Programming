{
 "cells": [
  {
   "cell_type": "markdown",
   "metadata": {},
   "source": [
    "### Creation of List \n",
    "\n",
    "Lists in Python can be created by just placing the sequence inside the square brackets[].\n",
    "A list may contain duplicate values with their distinct positions and hence, multiple distinct or duplicate values can be passed as a sequence at the time of list creation."
   ]
  },
  {
   "cell_type": "code",
   "execution_count": null,
   "metadata": {},
   "outputs": [],
   "source": [
    "# Creating a List \n",
    "List = [] \n",
    "print(\"Intial blank List: \") \n",
    "print(List) "
   ]
  },
  {
   "cell_type": "code",
   "execution_count": null,
   "metadata": {},
   "outputs": [],
   "source": [
    "# Creating a List with \n",
    "# the use of a String \n",
    "List = ['DataScience'] \n",
    "print(\"\\nList with the use of String: \") \n",
    "print(List) "
   ]
  },
  {
   "cell_type": "code",
   "execution_count": null,
   "metadata": {},
   "outputs": [],
   "source": [
    "# Creating a List with \n",
    "# the use of multiple values \n",
    "List = [\"Python\", \"For\", \"Beginners\"] \n",
    "print(\"\\nList containing multiple values: \") \n",
    "print(List[0]) \n",
    "print(List[2]) "
   ]
  },
  {
   "cell_type": "code",
   "execution_count": null,
   "metadata": {},
   "outputs": [],
   "source": [
    "# Creating a Multi-Dimensional List \n",
    "# (By Nesting a list inside a List) \n",
    "List = [['Data', 'Science'] , ['Python']] \n",
    "print(\"\\nMulti-Dimensional List: \") \n",
    "print(List) "
   ]
  },
  {
   "cell_type": "code",
   "execution_count": null,
   "metadata": {},
   "outputs": [],
   "source": [
    "# Creating a List with \n",
    "# the use of Numbers \n",
    "# (Having duplicate values) \n",
    "List = [1, 2, 4, 4, 3, 3, 3, 6, 5] \n",
    "print(\"\\nList with the use of Numbers: \") \n",
    "print(List) "
   ]
  },
  {
   "cell_type": "code",
   "execution_count": null,
   "metadata": {},
   "outputs": [],
   "source": [
    "# Creating a List with \n",
    "# mixed type of values \n",
    "# (Having numbers and strings) \n",
    "List = [1, 2, 'Python', 4, 'For', 6, 'Beginners'] \n",
    "print(\"\\nList with the use of Mixed Values: \") \n",
    "print(List) "
   ]
  },
  {
   "cell_type": "markdown",
   "metadata": {},
   "source": [
    "### Adding Elements to a List\n",
    "Elements can be added to the List by using built-in append() function. Only one element at a time can be added to the list by using append() method, for addition of multiple elements with the append() method, loops are used. Tuples can also be added to the List with the use of append method because tuples are immutable. Unlike Sets, Lists can also be added to the existing list with the use of append() method.\n",
    "append() method only works for addition of elements at the end of the List, for addition of element at the desired position, insert() method is used. Unlike append() which takes only one argument, insert() method requires two arguments(position, value). Other than append() and insert() methods, there’s one more method for Addition of elements, extend(), this method is used to add multiple elements at the same time at the end of the list.\n",
    "\n",
    "Note – append() and extend() methods can only add elements at the end."
   ]
  },
  {
   "cell_type": "code",
   "execution_count": null,
   "metadata": {},
   "outputs": [],
   "source": [
    "# Python program to demonstrate \n",
    "# Addition of elements in a List \n",
    "\n",
    "# Creating a List \n",
    "List = [] \n",
    "print(\"Intial blank List: \") \n",
    "print(List) "
   ]
  },
  {
   "cell_type": "code",
   "execution_count": null,
   "metadata": {},
   "outputs": [],
   "source": [
    "# Addition of Elements \n",
    "# in the List \n",
    "List.append(1) \n",
    "List.append(2) \n",
    "List.append(4) \n",
    "print(\"\\nList after Addition of Three elements: \") \n",
    "print(List) "
   ]
  },
  {
   "cell_type": "code",
   "execution_count": null,
   "metadata": {},
   "outputs": [],
   "source": [
    "# Adding elements to the List \n",
    "# using Iterator \n",
    "for i in range(1, 4): \n",
    "\tList.append(i) \n",
    "print(\"\\nList after Addition of elements from 1-3: \") \n",
    "print(List) "
   ]
  },
  {
   "cell_type": "code",
   "execution_count": null,
   "metadata": {},
   "outputs": [],
   "source": [
    "# Adding Tuples to the List \n",
    "List.append((5, 6)) \n",
    "print(\"\\nList after Addition of a Tuple: \") \n",
    "print(List) "
   ]
  },
  {
   "cell_type": "code",
   "execution_count": null,
   "metadata": {},
   "outputs": [],
   "source": [
    "# Addition of List to a List \n",
    "List2 = ['For', 'Data'] \n",
    "List.append(List2) \n",
    "print(\"\\nList after Addition of a List: \") \n",
    "print(List) "
   ]
  },
  {
   "cell_type": "code",
   "execution_count": null,
   "metadata": {},
   "outputs": [],
   "source": [
    "# Addition of Element at \n",
    "# specific Position \n",
    "# (using Insert Method) \n",
    "List.insert(3, 12) \n",
    "List2.insert(0, 'Python') \n",
    "print(\"\\nList after performing Insert Operation: \") \n",
    "print(List) "
   ]
  },
  {
   "cell_type": "code",
   "execution_count": null,
   "metadata": {},
   "outputs": [],
   "source": [
    "# Addition of multiple elements \n",
    "# to the List at the end \n",
    "# (using Extend Method) \n",
    "List.extend([8, 'Python', 'Always']) \n",
    "print(\"\\nList after performing Extend Operation: \") \n",
    "print(List) "
   ]
  },
  {
   "cell_type": "markdown",
   "metadata": {},
   "source": [
    "### Accessing elements from the List\n",
    "In order to access the list items refer to the index number.Use the index operator [ ] to access an item in a list.The index must be an integer.Nested list are accessed using nested indexing."
   ]
  },
  {
   "cell_type": "code",
   "execution_count": null,
   "metadata": {},
   "outputs": [],
   "source": [
    "# Python program to demonstrate \n",
    "# accessing of element from list \n",
    "\n",
    "# Creating a List with \n",
    "# the use of multiple values \n",
    "List = [\"Python\", \"For\", \"Beginners\"] \n",
    "\n",
    "# accessing a element from the \n",
    "# list using index number \n",
    "print(\"Accessing a element from the list\") \n",
    "print(List[0]) \n",
    "print(List[2]) "
   ]
  },
  {
   "cell_type": "code",
   "execution_count": null,
   "metadata": {},
   "outputs": [],
   "source": [
    "# Creating a Multi-Dimensional List \n",
    "# (By Nesting a list inside a List) \n",
    "List = [['Data', 'For'] , ['Analyst']] "
   ]
  },
  {
   "cell_type": "code",
   "execution_count": null,
   "metadata": {},
   "outputs": [],
   "source": [
    "# accessing a element from the \n",
    "# Multi-Dimensional List using \n",
    "# index number \n",
    "print(\"Acessing a element from a Multi-Dimensional list\") \n",
    "print(List[0][1]) \n",
    "print(List[1][0]) "
   ]
  },
  {
   "cell_type": "code",
   "execution_count": null,
   "metadata": {},
   "outputs": [],
   "source": [
    "List = [1, 2, 'Python', 4, 'For', 6, 'Data Science'] \n",
    "\n",
    "# accessing a element using \n",
    "# negative indexing \n",
    "print(\"Acessing element using negative indexing\") \n",
    "\n",
    "# print the last element of list \n",
    "print(List[-1]) \n",
    "\n",
    "# print the third last element of list \n",
    "print(List[-3]) \n"
   ]
  },
  {
   "cell_type": "markdown",
   "metadata": {},
   "source": [
    "### Removing Elements from the List\n",
    "Elements can be removed from the List by using built-in remove() function but an Error arises if element doesn’t exist in the set. Remove() method only removes one element at a time, to remove range of elements, iterator is used. Pop() function can also be used to remove and return an element from the set, but by default it removes only the last element of the set, to remove element from a specific position of the List, index of the element is passed as an argument to the pop() method.\n",
    "\n",
    "Note – Remove method in List will only remove the first occurrence of the searched element."
   ]
  },
  {
   "cell_type": "code",
   "execution_count": null,
   "metadata": {},
   "outputs": [],
   "source": [
    "# Python program to demonstrate \n",
    "# Removal of elements in a List \n",
    "\n",
    "# Creating a List \n",
    "List = [1, 2, 3, 4, 5, 6, \n",
    "\t\t7, 8, 9, 10, 11, 12] \n",
    "print(\"Intial List: \") \n",
    "print(List) "
   ]
  },
  {
   "cell_type": "code",
   "execution_count": null,
   "metadata": {},
   "outputs": [],
   "source": [
    "# Removing elements from List \n",
    "# using Remove() method \n",
    "List.remove(5) \n",
    "List.remove(6) \n",
    "print(\"\\nList after Removal of two elements: \") \n",
    "print(List) "
   ]
  },
  {
   "cell_type": "code",
   "execution_count": null,
   "metadata": {},
   "outputs": [],
   "source": [
    "# Removing elements from List \n",
    "# using iterator method \n",
    "for i in range(1, 5): \n",
    "\tList.remove(i) \n",
    "print(\"\\nList after Removing a range of elements: \") \n",
    "print(List) "
   ]
  },
  {
   "cell_type": "code",
   "execution_count": null,
   "metadata": {},
   "outputs": [],
   "source": [
    "# Removing element from the \n",
    "# Set using the pop() method \n",
    "List.pop() \n",
    "print(\"\\nList after popping an element: \") \n",
    "print(List) "
   ]
  },
  {
   "cell_type": "code",
   "execution_count": null,
   "metadata": {},
   "outputs": [],
   "source": [
    "# Removing element at a \n",
    "# specific location from the \n",
    "# Set using the pop() method \n",
    "List.pop(2) \n",
    "print(\"\\nList after popping a specific element: \") \n",
    "print(List) "
   ]
  },
  {
   "cell_type": "markdown",
   "metadata": {},
   "source": [
    "### Slicing of a List\n",
    "In Python List, there are multiple ways to print the whole List with all the elements, but to print a specific range of elements from the list, we use Slice operation. Slice operation is performed on Lists with the use of colon(:). To print elements from beginning to a range use [:Index], to print elements from end use [:-Index], to print elements from specific Index till the end use [Index:], to print elements within a range, use [Start Index:End Index] and to print whole List with the use of slicing operation, use [:]. Further, to print whole List in reverse order, use [::-1].\n",
    "\n",
    "Note – To print elements of List from rear end, use Negative Indexes."
   ]
  },
  {
   "cell_type": "code",
   "execution_count": null,
   "metadata": {},
   "outputs": [],
   "source": [
    "# Python program to demonstrate \n",
    "# Removal of elements in a List \n",
    "\n",
    "# Creating a List \n",
    "List = ['G','E','E','K','S','F', \n",
    "\t\t'O','R','G','E','E','K','S'] \n",
    "print(\"Intial List: \") \n",
    "print(List) "
   ]
  },
  {
   "cell_type": "code",
   "execution_count": null,
   "metadata": {},
   "outputs": [],
   "source": [
    "# Print elements of a range \n",
    "# using Slice operation \n",
    "Sliced_List = List[3:8] \n",
    "print(\"\\nSlicing elements in a range 3-8: \") \n",
    "print(Sliced_List) "
   ]
  },
  {
   "cell_type": "code",
   "execution_count": null,
   "metadata": {},
   "outputs": [],
   "source": [
    "# Print elements from beginning \n",
    "# to a pre-defined point using Slice \n",
    "Sliced_List = List[:-6] \n",
    "print(\"\\nElements sliced till 6th element from last: \") \n",
    "print(Sliced_List) "
   ]
  },
  {
   "cell_type": "code",
   "execution_count": null,
   "metadata": {},
   "outputs": [],
   "source": [
    "# Print elements from a \n",
    "# pre-defined point to end \n",
    "Sliced_List = List[5:] \n",
    "print(\"\\nElements sliced from 5th \"\n",
    "\t\"element till the end: \") \n",
    "print(Sliced_List) "
   ]
  },
  {
   "cell_type": "code",
   "execution_count": null,
   "metadata": {},
   "outputs": [],
   "source": [
    "# Printing elements from \n",
    "# beginning till end \n",
    "Sliced_List = List[:] \n",
    "print(\"\\nPrinting all elements using slice operation: \") \n",
    "print(Sliced_List) "
   ]
  },
  {
   "cell_type": "code",
   "execution_count": null,
   "metadata": {},
   "outputs": [],
   "source": [
    "# Printing elements in reverse \n",
    "# using Slice operation \n",
    "Sliced_List = List[::-1] \n",
    "print(\"\\nPrinting List in reverse: \") \n",
    "print(Sliced_List) "
   ]
  }
 ],
 "metadata": {
  "kernelspec": {
   "display_name": "Python 3",
   "language": "python",
   "name": "python3"
  },
  "language_info": {
   "codemirror_mode": {
    "name": "ipython",
    "version": 3
   },
   "file_extension": ".py",
   "mimetype": "text/x-python",
   "name": "python",
   "nbconvert_exporter": "python",
   "pygments_lexer": "ipython3",
   "version": "3.6.9"
  }
 },
 "nbformat": 4,
 "nbformat_minor": 2
}
