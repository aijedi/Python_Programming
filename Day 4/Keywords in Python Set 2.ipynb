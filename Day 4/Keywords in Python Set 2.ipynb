{
 "cells": [
  {
   "cell_type": "markdown",
   "metadata": {},
   "source": [
    "#### 16. try : \n",
    "    This keyword is used for exception handling, used to catch the errors in the code using the keyword except. Code in “try” block is checked, if there is any type of error, except block is executed.\n",
    "\n",
    "#### 17. except : \n",
    "    As explained above, this works together with “try” to catch exceptions.\n",
    "\n",
    "#### 18. raise : \n",
    "    Also used for exception handling to explicitly raise exceptions.\n",
    "\n",
    "#### 19. finally : \n",
    "    No matter what is result of the “try” block, block termed “finally” is always executed. Detailed article –Exception Handling in Python\n",
    "\n",
    "#### 20. for : \n",
    "    This keyword is used to control flow and for looping.\n",
    "\n",
    "#### 21. while : \n",
    "    Has a similar working like “for” , used to control flow and for looping.\n",
    "\n",
    "#### 22. pass : \n",
    "    It is the null statement in python. Nothing happens when this is encountered. This is used to prevent indentation errors and used as a placeholder"
   ]
  },
  {
   "cell_type": "markdown",
   "metadata": {},
   "source": [
    "##### 23. import : \n",
    "    his statement is used to include a particular module into current program.\n",
    "\n",
    "##### 24. from : \n",
    "    Generally used with import, from is used to import particular functionality from the module imported.\n",
    "\n",
    "##### 25. as : \n",
    "    This keyword is used to create the alias for the module imported. i.e giving a new name to the imported module.. E.g import math as mymath.\n",
    "\n",
    "##### 26. lambda : \n",
    "    This keyword is used to make inline returning functions with no statements allowed internally. Detailed Article – map, filter, lambda\n",
    "\n",
    "##### 27. return : \n",
    "    This keyword is used to return from the function. Detailed article –  Return values in Python.\n",
    "\n",
    "##### 28. yield : \n",
    "    This keyword is used like return statement but is used to return a generator. Detailed Article – yield keyword\n",
    "\n",
    "##### 29. with : \n",
    "    This keyword is used to wrap the execution of block of code within methods defined by context manager.This keyword is not used much in day to day programming.\n",
    "\n",
    "##### 30. in : \n",
    "    This keyword is used to check if a container contains a value. This keyword is also used to loop through the container.\n",
    "\n",
    "##### 31. is : \n",
    "    This keyword is used to test object identity, i.e to check if both the objects take same memory location or not."
   ]
  },
  {
   "cell_type": "code",
   "execution_count": 4,
   "metadata": {},
   "outputs": [
    {
     "name": "stdout",
     "output_type": "stream",
     "text": [
      "s is part of datascience\n"
     ]
    }
   ],
   "source": [
    "# Python code to demonstrate working of \n",
    "# in and is \n",
    "\n",
    "# using \"in\" to check \n",
    "if 's' in 'datascience': \n",
    "    print (\"s is part of datascience\") \n",
    "else : \n",
    "    print (\"s is not part of datascience\") "
   ]
  },
  {
   "cell_type": "code",
   "execution_count": 5,
   "metadata": {},
   "outputs": [
    {
     "name": "stdout",
     "output_type": "stream",
     "text": [
      "d a t a s c i e n c e "
     ]
    }
   ],
   "source": [
    "# using \"in\" to loop through \n",
    "for i in 'datascience': \n",
    "    print (i,end=\" \") "
   ]
  },
  {
   "cell_type": "code",
   "execution_count": 3,
   "metadata": {},
   "outputs": [
    {
     "name": "stdout",
     "output_type": "stream",
     "text": [
      "\r\n",
      "True\n",
      "False\n"
     ]
    }
   ],
   "source": [
    "print (\"\\r\") \n",
    "\n",
    "# using is to check object identity \n",
    "# string is immutable( cannot be changed once alloted) \n",
    "# hence occupy same memory location \n",
    "print (' ' is ' ') \n",
    "\n",
    "# using is to check object identity \n",
    "# dictionary is mutable( can be changed once alloted) \n",
    "# hence occupy different memory location \n",
    "print ({} is {}) "
   ]
  }
 ],
 "metadata": {
  "kernelspec": {
   "display_name": "Python 3",
   "language": "python",
   "name": "python3"
  },
  "language_info": {
   "codemirror_mode": {
    "name": "ipython",
    "version": 3
   },
   "file_extension": ".py",
   "mimetype": "text/x-python",
   "name": "python",
   "nbconvert_exporter": "python",
   "pygments_lexer": "ipython3",
   "version": "3.6.9"
  }
 },
 "nbformat": 4,
 "nbformat_minor": 2
}
