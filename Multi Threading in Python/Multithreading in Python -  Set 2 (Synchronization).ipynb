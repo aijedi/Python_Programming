{
 "cells": [
  {
   "cell_type": "markdown",
   "metadata": {},
   "source": [
    "### Synchronization between threads\n",
    "\n",
    "Thread synchronization is defined as a mechanism which ensures that two or more concurrent threads do not simultaneously execute some particular program segment known as critical section.\n",
    "\n",
    "##### Critical section refers to the parts of the program where the shared resource is accessed.\n",
    "\n",
    "For example, in the diagram below, 3 threads try to access shared resource or critical section at the same time.\n",
    "\n",
    "<img src='images/multithreading-python-1.png'>\n",
    "\n",
    "Concurrent accesses to shared resource can lead to race condition.\n",
    "\n",
    "##### A race condition occurs when two or more threads can access shared data and they try to change it at the same time. As a result, the values of variables may be unpredictable and vary depending on the timings of context switches of the processes."
   ]
  },
  {
   "cell_type": "code",
   "execution_count": 2,
   "metadata": {},
   "outputs": [],
   "source": [
    "import threading \n",
    "\n",
    "# global variable x \n",
    "x = 0"
   ]
  },
  {
   "cell_type": "code",
   "execution_count": 9,
   "metadata": {},
   "outputs": [],
   "source": [
    "def increment(): \n",
    "    \"\"\" \n",
    "    function to increment global variable x \n",
    "    \"\"\"\n",
    "    global x \n",
    "    x += 1"
   ]
  },
  {
   "cell_type": "code",
   "execution_count": 10,
   "metadata": {},
   "outputs": [],
   "source": [
    "def thread_task(): \n",
    "    \"\"\" \n",
    "    task for thread \n",
    "    calls increment function 100000 times. \n",
    "    \"\"\"\n",
    "    for _ in range(100000): \n",
    "        increment() "
   ]
  },
  {
   "cell_type": "code",
   "execution_count": 11,
   "metadata": {},
   "outputs": [],
   "source": [
    "def main_task(): \n",
    "    global x \n",
    "    # setting global variable x as 0 \n",
    "    x = 0\n",
    "\n",
    "    # creating threads \n",
    "    t1 = threading.Thread(target=thread_task) \n",
    "    t2 = threading.Thread(target=thread_task) \n",
    "\n",
    "    # start threads \n",
    "    t1.start() \n",
    "    t2.start() \n",
    "\n",
    "    # wait until threads finish their job \n",
    "    t1.join() \n",
    "    t2.join() "
   ]
  },
  {
   "cell_type": "code",
   "execution_count": 8,
   "metadata": {},
   "outputs": [
    {
     "name": "stdout",
     "output_type": "stream",
     "text": [
      "Iteration 0: x = 200000\n",
      "Iteration 1: x = 168452\n",
      "Iteration 2: x = 160474\n",
      "Iteration 3: x = 200000\n",
      "Iteration 4: x = 112736\n",
      "Iteration 5: x = 195919\n",
      "Iteration 6: x = 178483\n",
      "Iteration 7: x = 164423\n",
      "Iteration 8: x = 200000\n",
      "Iteration 9: x = 200000\n"
     ]
    }
   ],
   "source": [
    "for i in range(10): \n",
    "    main_task() \n",
    "    print(\"Iteration {0}: x = {1}\".format(i,x)) "
   ]
  },
  {
   "cell_type": "markdown",
   "metadata": {},
   "source": [
    "In above program:\n",
    "\n",
    "- Two threads t1 and t2 are created in main_task function and global variable x is set to 0.\n",
    "- Each thread has a target function thread_task in which increment function is called 100000 times.\n",
    "- increment function will increment the global variable x by 1 in each call.\n",
    "- The expected final value of x is 200000 but what we get in 10 iterations of main_task function is some different values.\n",
    "\n",
    "This happens due to concurrent access of threads to the shared variable x. This unpredictability in value of x is nothing but race condition.\n",
    "\n",
    "Given below is a diagram which shows how can race condition occur in above program:\n",
    "\n",
    "<img src='images/multithreadingfinal.png'>\n",
    "\n",
    "Notice that expected value of x in above diagram is 12 but due to race condition, it turns out to be 11!\n",
    "\n",
    "Hence, we need a tool for proper synchronization between multiple threads."
   ]
  },
  {
   "cell_type": "markdown",
   "metadata": {},
   "source": [
    "### Using Locks\n",
    "\n",
    "##### A threading module provides a Lock class to deal with the race conditions. Lock is implemented using a Semaphore object provided by the Operating System.\n",
    "\n",
    "A semaphore is a synchronization object that controls access by multiple processes/threads to a common resource in a parallel programming environment. It is simply a value in a designated place in operating system (or kernel) storage that each process/thread can check and then change. Depending on the value that is found, the process/thread can use the resource or will find that it is already in use and must wait for some period before trying again. Semaphores can be binary (0 or 1) or can have additional values. Typically, a process/thread using semaphores checks the value and then, if it using the resource, changes the value to reflect this so that subsequent semaphore users will know to wait."
   ]
  },
  {
   "cell_type": "code",
   "execution_count": null,
   "metadata": {},
   "outputs": [],
   "source": []
  }
 ],
 "metadata": {
  "kernelspec": {
   "display_name": "Python 3",
   "language": "python",
   "name": "python3"
  },
  "language_info": {
   "codemirror_mode": {
    "name": "ipython",
    "version": 3
   },
   "file_extension": ".py",
   "mimetype": "text/x-python",
   "name": "python",
   "nbconvert_exporter": "python",
   "pygments_lexer": "ipython3",
   "version": "3.6.9"
  }
 },
 "nbformat": 4,
 "nbformat_minor": 2
}
