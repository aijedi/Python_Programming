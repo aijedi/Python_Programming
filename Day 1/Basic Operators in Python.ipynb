{
 "cells": [
  {
   "cell_type": "markdown",
   "metadata": {},
   "source": [
    "### Basic Operators in Python\n",
    "Arithmetic operators: Arithmetic operators are used to perform mathematical operations like addition, subtraction, multiplication and division."
   ]
  },
  {
   "cell_type": "markdown",
   "metadata": {},
   "source": [
    "#### OPERATORS\n",
    "1.         Addition: adds two operands\t                                               ||  x + y\n",
    "2. \t        Subtraction: subtracts two operands\t                                       ||  x - y\n",
    "3.\t        Multiplication: multiplies two operands\t                                   ||  x * y\n",
    "4.\t        Division (float): divides the first operand by the second\t               ||  x / y\n",
    "5.\t        Division (floor): divides the first operand by the second\t               ||  x // y\n",
    "6.\t        Modulus: returns the remainder when first operand is divided by the second ||\tx % y"
   ]
  },
  {
   "cell_type": "code",
   "execution_count": 3,
   "metadata": {},
   "outputs": [],
   "source": [
    "# Examples of Arithmetic Operator \n",
    "# Initialize the variables\n",
    "a = 9\n",
    "b = 4"
   ]
  },
  {
   "cell_type": "code",
   "execution_count": 4,
   "metadata": {},
   "outputs": [
    {
     "name": "stdout",
     "output_type": "stream",
     "text": [
      "13\n"
     ]
    }
   ],
   "source": [
    "# Addition of numbers \n",
    "add = a + b \n",
    "print (add)"
   ]
  },
  {
   "cell_type": "code",
   "execution_count": 5,
   "metadata": {},
   "outputs": [
    {
     "name": "stdout",
     "output_type": "stream",
     "text": [
      "5\n"
     ]
    }
   ],
   "source": [
    "# Subtraction of numbers  \n",
    "sub = a - b \n",
    "print (sub)"
   ]
  },
  {
   "cell_type": "code",
   "execution_count": 6,
   "metadata": {},
   "outputs": [
    {
     "name": "stdout",
     "output_type": "stream",
     "text": [
      "36\n"
     ]
    }
   ],
   "source": [
    "# Multiplication of number  \n",
    "mul = a * b \n",
    "print (mul)"
   ]
  },
  {
   "cell_type": "code",
   "execution_count": 7,
   "metadata": {},
   "outputs": [
    {
     "name": "stdout",
     "output_type": "stream",
     "text": [
      "2.25\n"
     ]
    }
   ],
   "source": [
    "# Division(float) of number  \n",
    "div1 = a / b \n",
    "print (div1)"
   ]
  },
  {
   "cell_type": "code",
   "execution_count": 8,
   "metadata": {},
   "outputs": [
    {
     "name": "stdout",
     "output_type": "stream",
     "text": [
      "2\n"
     ]
    }
   ],
   "source": [
    "# Division(floor) of number  \n",
    "div2 = a // b \n",
    "print (div2)"
   ]
  },
  {
   "cell_type": "code",
   "execution_count": 11,
   "metadata": {},
   "outputs": [
    {
     "name": "stdout",
     "output_type": "stream",
     "text": [
      "1\n"
     ]
    }
   ],
   "source": [
    "# Modulo of both number \n",
    "mod = a % b \n",
    "print (mod)"
   ]
  },
  {
   "cell_type": "markdown",
   "metadata": {},
   "source": [
    "### Relational Operators: \n",
    "    Relational operators compares the values. It either returns True or False according to the condition.\n",
    "\n",
    "1.\tGreater than: True if left operand is greater than the right ||\tx > y\n",
    "2.\tLess than: True if left operand is less than the right  ||\tx < y\n",
    "3.\tEqual to: True if both operands are equal ||\tx == y\n",
    "4.\tNot equal to - True if operands are not equal ||\tx != y\n",
    "5.\tGreater than or equal to: True if left operand is greater than or equal to the right ||\tx >= y\n",
    "6.\tLess than or equal to: True if left operand is less than or equal to the right ||\tx <= y"
   ]
  },
  {
   "cell_type": "code",
   "execution_count": 23,
   "metadata": {},
   "outputs": [
    {
     "name": "stdout",
     "output_type": "stream",
     "text": [
      "False\n"
     ]
    }
   ],
   "source": [
    "# Examples of Relational Operators \n",
    "a = 12\n",
    "b = 20\n",
    "  \n",
    "# a > b is False \n",
    "print(a > b) "
   ]
  },
  {
   "cell_type": "code",
   "execution_count": 24,
   "metadata": {},
   "outputs": [
    {
     "name": "stdout",
     "output_type": "stream",
     "text": [
      "12\n"
     ]
    }
   ],
   "source": [
    "print (min (a, b))"
   ]
  },
  {
   "cell_type": "code",
   "execution_count": 25,
   "metadata": {},
   "outputs": [
    {
     "name": "stdout",
     "output_type": "stream",
     "text": [
      "True\n"
     ]
    }
   ],
   "source": [
    "# a < b is True \n",
    "print(a < b) "
   ]
  },
  {
   "cell_type": "code",
   "execution_count": 26,
   "metadata": {},
   "outputs": [
    {
     "name": "stdout",
     "output_type": "stream",
     "text": [
      "False\n"
     ]
    }
   ],
   "source": [
    "# a == b is False \n",
    "print(a == b) "
   ]
  },
  {
   "cell_type": "code",
   "execution_count": 39,
   "metadata": {},
   "outputs": [
    {
     "name": "stdout",
     "output_type": "stream",
     "text": [
      "True\n"
     ]
    }
   ],
   "source": [
    "# a != b is True \n",
    "print(a != b) "
   ]
  },
  {
   "cell_type": "code",
   "execution_count": 43,
   "metadata": {},
   "outputs": [
    {
     "name": "stdout",
     "output_type": "stream",
     "text": [
      "False\n"
     ]
    }
   ],
   "source": [
    "# a >= b is False \n",
    "a = 20\n",
    "b = 200\n",
    "print(a >= b) "
   ]
  },
  {
   "cell_type": "code",
   "execution_count": 44,
   "metadata": {},
   "outputs": [
    {
     "name": "stdout",
     "output_type": "stream",
     "text": [
      "True\n"
     ]
    }
   ],
   "source": [
    "# a <= b is True \n",
    "print(a <= b) "
   ]
  },
  {
   "cell_type": "markdown",
   "metadata": {},
   "source": [
    "### Logical operators: \n",
    "    Logical operators perform Logical AND, Logical OR and Logical NOT operations."
   ]
  },
  {
   "cell_type": "markdown",
   "metadata": {},
   "source": [
    "1. Logical AND: True if both the operands are true\t|| x and y\n",
    "2. Logical OR: True if either of the operands is true ||\tx or y\n",
    "3. Logical NOT: True if operand is false ||\tnot x"
   ]
  },
  {
   "cell_type": "code",
   "execution_count": 58,
   "metadata": {},
   "outputs": [
    {
     "data": {
      "text/plain": [
       "1"
      ]
     },
     "execution_count": 58,
     "metadata": {},
     "output_type": "execute_result"
    }
   ],
   "source": [
    "1+0"
   ]
  },
  {
   "cell_type": "code",
   "execution_count": 59,
   "metadata": {},
   "outputs": [
    {
     "data": {
      "text/plain": [
       "0"
      ]
     },
     "execution_count": 59,
     "metadata": {},
     "output_type": "execute_result"
    }
   ],
   "source": [
    "1*0"
   ]
  },
  {
   "cell_type": "code",
   "execution_count": 60,
   "metadata": {},
   "outputs": [],
   "source": [
    "# Examples of Logical Operator \n",
    "a = True\n",
    "b = False"
   ]
  },
  {
   "cell_type": "code",
   "execution_count": 61,
   "metadata": {},
   "outputs": [
    {
     "name": "stdout",
     "output_type": "stream",
     "text": [
      "False\n"
     ]
    }
   ],
   "source": [
    "# Print a and b is False \n",
    "print(a and b) "
   ]
  },
  {
   "cell_type": "code",
   "execution_count": 75,
   "metadata": {},
   "outputs": [
    {
     "name": "stdout",
     "output_type": "stream",
     "text": [
      "True\n"
     ]
    }
   ],
   "source": [
    "# Print a or b is True \n",
    "a = True\n",
    "b = False\n",
    "\n",
    "print(a or b) "
   ]
  },
  {
   "cell_type": "code",
   "execution_count": 76,
   "metadata": {},
   "outputs": [
    {
     "name": "stdout",
     "output_type": "stream",
     "text": [
      "False\n"
     ]
    }
   ],
   "source": [
    "# Print not a is False \n",
    "print(not a) "
   ]
  },
  {
   "cell_type": "markdown",
   "metadata": {},
   "source": [
    "### Bitwise operators: \n",
    "    Bitwise operators acts on bits and performs bit by bit operation.\n",
    "    \n",
    "1.\tBitwise AND\t|| x & y\n",
    "2.\tBitwise OR\t|| x | y\n",
    "3.\tBitwise NOT\t|| ~x"
   ]
  },
  {
   "cell_type": "code",
   "execution_count": null,
   "metadata": {},
   "outputs": [],
   "source": [
    "0 : 0\n",
    "1 : 01\n",
    "2 : 10\n",
    "3 : 11\n",
    "4 : 100\n",
    "5 : 101\n",
    "6 : 110\n",
    "7 : 111\n",
    "8 : 1000\n",
    "9 : 1001\n",
    "10: 1010"
   ]
  },
  {
   "cell_type": "code",
   "execution_count": 80,
   "metadata": {},
   "outputs": [
    {
     "name": "stdout",
     "output_type": "stream",
     "text": [
      "0\n"
     ]
    }
   ],
   "source": [
    "# Examples of Bitwise operators \n",
    "a = 10\n",
    "b = 4\n",
    "  \n",
    "'''\n",
    "a_binary = 1010\n",
    "b_binary = 0100\n",
    "'''\n",
    "# Print bitwise AND operation   \n",
    "print(a & b) "
   ]
  },
  {
   "cell_type": "code",
   "execution_count": 81,
   "metadata": {},
   "outputs": [
    {
     "name": "stdout",
     "output_type": "stream",
     "text": [
      "14\n"
     ]
    }
   ],
   "source": [
    "'''\n",
    "a_binary = 1010\n",
    "b_binary = 0100\n",
    "'''\n",
    "# Print bitwise OR operation \n",
    "print(a | b) "
   ]
  },
  {
   "cell_type": "code",
   "execution_count": null,
   "metadata": {},
   "outputs": [],
   "source": [
    " 1000\n",
    "+0101\n",
    "_____\n",
    "-1101 "
   ]
  },
  {
   "cell_type": "code",
   "execution_count": 27,
   "metadata": {},
   "outputs": [
    {
     "name": "stdout",
     "output_type": "stream",
     "text": [
      "-11\n"
     ]
    }
   ],
   "source": [
    "'''\n",
    "a_binary = 1010\n",
    "b_binary = 0100\n",
    "'''\n",
    "# Print bitwise NOT operation  \n",
    "print(~a) "
   ]
  },
  {
   "cell_type": "code",
   "execution_count": 83,
   "metadata": {},
   "outputs": [
    {
     "data": {
      "text/plain": [
       "False"
      ]
     },
     "execution_count": 83,
     "metadata": {},
     "output_type": "execute_result"
    }
   ],
   "source": [
    "a = True\n",
    "not a"
   ]
  },
  {
   "cell_type": "markdown",
   "metadata": {},
   "source": [
    "### Assignment operators: \n",
    "    Assignment operators are used to assign values to the variables."
   ]
  },
  {
   "cell_type": "code",
   "execution_count": 98,
   "metadata": {},
   "outputs": [
    {
     "data": {
      "text/plain": [
       "11"
      ]
     },
     "execution_count": 98,
     "metadata": {},
     "output_type": "execute_result"
    }
   ],
   "source": [
    "a = 10\n",
    "a = a|3\n",
    "a"
   ]
  },
  {
   "cell_type": "markdown",
   "metadata": {},
   "source": [
    "1. Assign value of right side of expression to left side operand\t ||  x = y + z\n",
    "2. Add AND: Add right side operand with left side operand and then assign to left operand\t|| a+=b     a=a+b\n",
    "3. Subtract AND: Subtract right operand from left operand and then assign to left operand\t|| a-=b       a=a-b\n",
    "4. Multiply AND: Multiply right operand with left operand and then assign to left operand\t|| a*=b       a=a*b\n",
    "5. Divide AND: Divide left operand with right operand and then assign to left operand\t || a/=b         a=a/b\n",
    "6. Modulus AND: Takes modulus using left and right operands and assign result to left operand\t|| a%=b   a=a%b\n",
    "7. Divide(floor) AND: Divide left operand with right operand and then assign the value(floor) to left operand ||\ta//=b       a=a//b\n",
    "9. Performs Bitwise AND on operands and assign value to left operand ||\ta&=b     a=a&b\n",
    "10. Performs Bitwise OR on operands and assign value to left operand ||\ta|=b         a=a|b\n"
   ]
  },
  {
   "cell_type": "markdown",
   "metadata": {},
   "source": [
    "#### Assignment : Implement the Assignment Operators in the cells below"
   ]
  },
  {
   "cell_type": "code",
   "execution_count": null,
   "metadata": {},
   "outputs": [],
   "source": []
  },
  {
   "cell_type": "code",
   "execution_count": null,
   "metadata": {},
   "outputs": [],
   "source": []
  },
  {
   "cell_type": "code",
   "execution_count": null,
   "metadata": {},
   "outputs": [],
   "source": []
  },
  {
   "cell_type": "code",
   "execution_count": null,
   "metadata": {},
   "outputs": [],
   "source": []
  },
  {
   "cell_type": "markdown",
   "metadata": {},
   "source": [
    "#### Special operators: \n",
    "\n",
    "There are some special type of operators like-\n",
    "##### Identity operators- \n",
    "is and is not are the identity operators both are used to check if two values are located on the same part of the memory. Two variables that are equal does not imply that they are identical.\n",
    "is          True if the operands are identical \n",
    "is not      True if the operands are not identical "
   ]
  },
  {
   "cell_type": "code",
   "execution_count": 32,
   "metadata": {},
   "outputs": [
    {
     "name": "stdout",
     "output_type": "stream",
     "text": [
      "False\n"
     ]
    }
   ],
   "source": [
    "# Examples of Identity operators \n",
    "a1 = 3\n",
    "b1 = 3\n",
    "a2 = 'DataScience'\n",
    "b2 = 'DataScience'\n",
    "a3 = [1,2,3] \n",
    "b3 = [1,2,3] \n",
    "  \n",
    "  \n",
    "print (a1 is not b1) "
   ]
  },
  {
   "cell_type": "code",
   "execution_count": 33,
   "metadata": {},
   "outputs": [
    {
     "name": "stdout",
     "output_type": "stream",
     "text": [
      "True\n"
     ]
    }
   ],
   "source": [
    "print(a2 is b2) "
   ]
  },
  {
   "cell_type": "code",
   "execution_count": 34,
   "metadata": {},
   "outputs": [
    {
     "name": "stdout",
     "output_type": "stream",
     "text": [
      "False\n"
     ]
    }
   ],
   "source": [
    "# Output is False, since lists are mutable. \n",
    "print(a3 is b3) "
   ]
  },
  {
   "cell_type": "markdown",
   "metadata": {},
   "source": [
    "### Membership operators-\n",
    "in and not in are the membership operators; used to test whether a value or variable is in a sequence.\n",
    "1. in            || True if value is found in the sequence\n",
    "2. not in        || True if value is not found in the sequence"
   ]
  },
  {
   "cell_type": "code",
   "execution_count": 36,
   "metadata": {},
   "outputs": [],
   "source": [
    "# Examples of Membership operator \n",
    "x = 'Machine Learning'\n",
    "y = {3:'a',4:'b'} "
   ]
  },
  {
   "cell_type": "code",
   "execution_count": 38,
   "metadata": {},
   "outputs": [
    {
     "name": "stdout",
     "output_type": "stream",
     "text": [
      "True\n"
     ]
    }
   ],
   "source": [
    "print('M' in x) "
   ]
  },
  {
   "cell_type": "code",
   "execution_count": 40,
   "metadata": {},
   "outputs": [
    {
     "name": "stdout",
     "output_type": "stream",
     "text": [
      "True\n"
     ]
    }
   ],
   "source": [
    "print('machine' not in x) "
   ]
  },
  {
   "cell_type": "code",
   "execution_count": 41,
   "metadata": {},
   "outputs": [
    {
     "name": "stdout",
     "output_type": "stream",
     "text": [
      "False\n"
     ]
    }
   ],
   "source": [
    "print('Machine' not in x) "
   ]
  },
  {
   "cell_type": "code",
   "execution_count": 42,
   "metadata": {},
   "outputs": [
    {
     "name": "stdout",
     "output_type": "stream",
     "text": [
      "True\n"
     ]
    }
   ],
   "source": [
    "print(3 in y) "
   ]
  },
  {
   "cell_type": "code",
   "execution_count": 43,
   "metadata": {},
   "outputs": [
    {
     "name": "stdout",
     "output_type": "stream",
     "text": [
      "False\n"
     ]
    }
   ],
   "source": [
    "print('b' in y) "
   ]
  }
 ],
 "metadata": {
  "kernelspec": {
   "display_name": "Python 3",
   "language": "python",
   "name": "python3"
  },
  "language_info": {
   "codemirror_mode": {
    "name": "ipython",
    "version": 3
   },
   "file_extension": ".py",
   "mimetype": "text/x-python",
   "name": "python",
   "nbconvert_exporter": "python",
   "pygments_lexer": "ipython3",
   "version": "3.6.9"
  }
 },
 "nbformat": 4,
 "nbformat_minor": 2
}
