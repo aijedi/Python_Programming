{
 "cells": [
  {
   "cell_type": "markdown",
   "metadata": {},
   "source": [
    "1. True : This keyword is used to represent a boolean true. If a statement is true, “True” is printed.\n",
    "\n",
    "2. False : This keyword is used to represent a boolean false. If a statement is false, “False” is printed.\n",
    "\n",
    "True and False in python are same as 1 and 0. Example:"
   ]
  },
  {
   "cell_type": "code",
   "execution_count": 1,
   "metadata": {},
   "outputs": [
    {
     "name": "stdout",
     "output_type": "stream",
     "text": [
      "True\n",
      "True\n"
     ]
    }
   ],
   "source": [
    "print (False == 0)\n",
    "print (True == 1)"
   ]
  },
  {
   "cell_type": "code",
   "execution_count": 2,
   "metadata": {},
   "outputs": [
    {
     "name": "stdout",
     "output_type": "stream",
     "text": [
      "3\n",
      "1\n"
     ]
    }
   ],
   "source": [
    "print (True + True + True)\n",
    "print (True + False + False)"
   ]
  },
  {
   "cell_type": "markdown",
   "metadata": {},
   "source": [
    "#### 3. None : \n",
    "This is a special constant used to denote a null value or a void. Its important to remember, 0, any empty container(e.g empty list) do not compute to None.\n",
    "It is an object of its own datatype – NoneType. It is not possible to create multiple None objects and can assign it to variables.\n",
    "\n",
    "#### 4. and : \n",
    "This a logical operator in python. “and” Return the first false value .if not found return last. The truth table for “and” is depicted below."
   ]
  },
  {
   "cell_type": "markdown",
   "metadata": {},
   "source": [
    "<img src=\"images/and1.png\">"
   ]
  },
  {
   "cell_type": "markdown",
   "metadata": {},
   "source": [
    "#### 5. or : \n",
    "    This a logical operator in python. “or” Return the first True value.if not found return last.The truth table for “or” is depicted below."
   ]
  },
  {
   "cell_type": "markdown",
   "metadata": {},
   "source": [
    "<img src=\"images/or1.png\">"
   ]
  },
  {
   "cell_type": "code",
   "execution_count": 4,
   "metadata": {},
   "outputs": [
    {
     "name": "stdout",
     "output_type": "stream",
     "text": [
      "False\n"
     ]
    }
   ],
   "source": [
    "# Python code to demonstrate  \n",
    "# True, False, None, and, or , not \n",
    "  \n",
    "# showing that None is not equal to 0 \n",
    "# prints False as its false. \n",
    "print (None == 0) "
   ]
  },
  {
   "cell_type": "code",
   "execution_count": 5,
   "metadata": {},
   "outputs": [
    {
     "ename": "SyntaxError",
     "evalue": "can't assign to keyword (<ipython-input-5-44bdf5f72943>, line 1)",
     "output_type": "error",
     "traceback": [
      "\u001b[1;36m  File \u001b[1;32m\"<ipython-input-5-44bdf5f72943>\"\u001b[1;36m, line \u001b[1;32m1\u001b[0m\n\u001b[1;33m    None = 0\u001b[0m\n\u001b[1;37m            ^\u001b[0m\n\u001b[1;31mSyntaxError\u001b[0m\u001b[1;31m:\u001b[0m can't assign to keyword\n"
     ]
    }
   ],
   "source": [
    "None = 0"
   ]
  },
  {
   "cell_type": "code",
   "execution_count": 6,
   "metadata": {},
   "outputs": [
    {
     "name": "stdout",
     "output_type": "stream",
     "text": [
      "True\n"
     ]
    }
   ],
   "source": [
    "# showing objective of None \n",
    "# two None value equated to None \n",
    "# here x and y both are null \n",
    "# hence true \n",
    "x = None\n",
    "y = None\n",
    "print (x == y) "
   ]
  },
  {
   "cell_type": "code",
   "execution_count": 7,
   "metadata": {},
   "outputs": [
    {
     "name": "stdout",
     "output_type": "stream",
     "text": [
      "True\n"
     ]
    }
   ],
   "source": [
    "# showing logical operation  \n",
    "# or (returns True) \n",
    "print (True or False) "
   ]
  },
  {
   "cell_type": "code",
   "execution_count": 8,
   "metadata": {},
   "outputs": [
    {
     "name": "stdout",
     "output_type": "stream",
     "text": [
      "False\n"
     ]
    }
   ],
   "source": [
    "# showing logical operation  \n",
    "# and (returns False) \n",
    "print (False and True) "
   ]
  },
  {
   "cell_type": "code",
   "execution_count": 9,
   "metadata": {},
   "outputs": [
    {
     "name": "stdout",
     "output_type": "stream",
     "text": [
      "False\n"
     ]
    }
   ],
   "source": [
    "# showing logical operation  \n",
    "# not (returns False) \n",
    "print (not True) "
   ]
  },
  {
   "cell_type": "markdown",
   "metadata": {},
   "source": [
    "##### 7. assert : \n",
    "    This function is used for debugging purposes. Usually used to check the correctness of code. If a statement evaluated to true, nothing happens, but when it is false, “AssertionError” is raised . One can also print a message with the error, separated by a comma.\n",
    "\n",
    "##### 8. break : \n",
    "    “break” is used to control the flow of loop. The statement is used to break out of loop and passes the control to the statement following immediately after loop.\n",
    "\n",
    "##### 9. continue : \n",
    "    “continue” is also used to control the flow of code. The keyword skips the current iteration of the loop, but does not end the loop.\n",
    "\n",
    "\n",
    "### Loops and Control Statements (continue, break and pass) in Python\n",
    "##### 10. class : \n",
    "    This keyword is used to declare user defined classes. For more info. click here.\n",
    "\n",
    "##### 11. def : \n",
    "    This keyword is used to declare user defined functions. For more info. click here.\n",
    "\n",
    "##### 12. if : \n",
    "    It is a control statement for decision making. Truth expression forces control to go in “if” statement block.\n",
    "\n",
    "##### 13. else : \n",
    "    It is a control statement for decision making. False expression forces control to go in “else” statement block.\n",
    "\n",
    "##### 14. elif : \n",
    "    It is a control statement for decision making. It is short for “else if”\n",
    "\n",
    "##### 15. del : \n",
    "    del is used to delete a reference to an object. Any variable or list value can be deleted using del."
   ]
  },
  {
   "cell_type": "code",
   "execution_count": 10,
   "metadata": {},
   "outputs": [
    {
     "name": "stdout",
     "output_type": "stream",
     "text": [
      "The list before deleting any value\n",
      "[1, 2, 3]\n"
     ]
    }
   ],
   "source": [
    "# Python code to demonstrate  \n",
    "# del and assert \n",
    "  \n",
    "# initialising list  \n",
    "a = [1, 2, 3] \n",
    "  \n",
    "# printing list before deleting any value \n",
    "print (\"The list before deleting any value\") \n",
    "print (a) "
   ]
  },
  {
   "cell_type": "code",
   "execution_count": 11,
   "metadata": {},
   "outputs": [
    {
     "name": "stdout",
     "output_type": "stream",
     "text": [
      "The list after deleting 2nd element\n",
      "[1, 3]\n"
     ]
    }
   ],
   "source": [
    "# using del to delete 2nd element of list \n",
    "del a[1] \n",
    "  \n",
    "# printing list after deleting 2nd element \n",
    "print (\"The list after deleting 2nd element\") \n",
    "print (a) "
   ]
  },
  {
   "cell_type": "code",
   "execution_count": 12,
   "metadata": {},
   "outputs": [
    {
     "name": "stdout",
     "output_type": "stream",
     "text": [
      "The list before deleting any value\n",
      "[10, 20, 30]\n"
     ]
    }
   ],
   "source": [
    "# Python code to demonstrate  \n",
    "# del and assert \n",
    "  \n",
    "# initialising list  \n",
    "a1 = [10, 20, 30] \n",
    "  \n",
    "# printing list before deleting any value \n",
    "print (\"The list before deleting any value\") \n",
    "print (a1) "
   ]
  },
  {
   "cell_type": "code",
   "execution_count": 13,
   "metadata": {},
   "outputs": [
    {
     "name": "stdout",
     "output_type": "stream",
     "text": [
      "The list after deleting 2nd element\n",
      "[10, 20]\n"
     ]
    }
   ],
   "source": [
    "# using del to delete 2nd element of list \n",
    "del a1[2] \n",
    "  \n",
    "# printing list after deleting 2nd element \n",
    "print (\"The list after deleting 2nd element\") \n",
    "print (a1) "
   ]
  },
  {
   "cell_type": "code",
   "execution_count": 19,
   "metadata": {},
   "outputs": [
    {
     "ename": "AssertionError",
     "evalue": "5 is not smaller than 3",
     "output_type": "error",
     "traceback": [
      "\u001b[1;31m---------------------------------------------------------------------------\u001b[0m",
      "\u001b[1;31mAssertionError\u001b[0m                            Traceback (most recent call last)",
      "\u001b[1;32m<ipython-input-19-9e3c87194ea7>\u001b[0m in \u001b[0;36m<module>\u001b[1;34m\u001b[0m\n\u001b[0;32m      1\u001b[0m \u001b[1;31m# demonstrating use of assert\u001b[0m\u001b[1;33m\u001b[0m\u001b[1;33m\u001b[0m\u001b[1;33m\u001b[0m\u001b[0m\n\u001b[0;32m      2\u001b[0m \u001b[1;31m# prints AssertionError\u001b[0m\u001b[1;33m\u001b[0m\u001b[1;33m\u001b[0m\u001b[1;33m\u001b[0m\u001b[0m\n\u001b[1;32m----> 3\u001b[1;33m \u001b[1;32massert\u001b[0m \u001b[1;36m5\u001b[0m \u001b[1;33m<\u001b[0m \u001b[1;36m3\u001b[0m\u001b[1;33m,\u001b[0m \u001b[1;34m\"5 is not smaller than 3\"\u001b[0m\u001b[1;33m\u001b[0m\u001b[1;33m\u001b[0m\u001b[0m\n\u001b[0m",
      "\u001b[1;31mAssertionError\u001b[0m: 5 is not smaller than 3"
     ]
    }
   ],
   "source": [
    "# demonstrating use of assert \n",
    "# prints AssertionError \n",
    "assert 5 < 3, \"5 is not smaller than 3\""
   ]
  },
  {
   "cell_type": "code",
   "execution_count": 15,
   "metadata": {},
   "outputs": [],
   "source": [
    "assert 3 < 4, \"4 is greater than 3\""
   ]
  }
 ],
 "metadata": {
  "kernelspec": {
   "display_name": "Python 3",
   "language": "python",
   "name": "python3"
  },
  "language_info": {
   "codemirror_mode": {
    "name": "ipython",
    "version": 3
   },
   "file_extension": ".py",
   "mimetype": "text/x-python",
   "name": "python",
   "nbconvert_exporter": "python",
   "pygments_lexer": "ipython3",
   "version": "3.6.9"
  }
 },
 "nbformat": 4,
 "nbformat_minor": 2
}
